{
 "cells": [
  {
   "cell_type": "markdown",
   "metadata": {},
   "source": [
    "### 8.1"
   ]
  },
  {
   "cell_type": "code",
   "execution_count": 1,
   "metadata": {},
   "outputs": [],
   "source": [
    "from sklearn.datasets import load_diabetes\n",
    "from sklearn.model_selection import train_test_split, GridSearchCV\n",
    "from sklearn.linear_model import Ridge, Lasso\n",
    "from sklearn.metrics import mean_squared_error"
   ]
  },
  {
   "cell_type": "code",
   "execution_count": 2,
   "metadata": {},
   "outputs": [
    {
     "name": "stdout",
     "output_type": "stream",
     "text": [
      "ridge best param:  {'alpha': 0.1}\n",
      "ridge best score:  0.45647798015266466\n",
      "ridge_mse 2856.486887670654\n",
      "\n"
     ]
    }
   ],
   "source": [
    "dia = load_diabetes()\n",
    "X = dia.data\n",
    "y = dia.target\n",
    "\n",
    "X_train, X_test, y_train, y_test = train_test_split(X,y, test_size=0.2, random_state=42)\n",
    "\n",
    "# Ridge \n",
    "ridge = Ridge()\n",
    "\n",
    "ridge_param_grid = {\"alpha\": [0.1, 1, 10,100]}\n",
    "\n",
    "ridge_grid_search = GridSearchCV(ridge, ridge_param_grid, cv = 5)\n",
    "ridge_grid_search.fit(X_train, y_train)\n",
    "print(\"ridge best param: \", ridge_grid_search.best_params_)\n",
    "print(\"ridge best score: \", ridge_grid_search.best_score_)\n",
    "\n",
    "best_ridge = ridge_grid_search.best_estimator_\n",
    "y_pred_ridge = best_ridge.predict(X_test)\n",
    "ridge_mse = mean_squared_error(y_test, y_pred_ridge)\n",
    "print(\"ridge_mse\", ridge_mse)\n",
    "print()\n"
   ]
  },
  {
   "cell_type": "code",
   "execution_count": 3,
   "metadata": {},
   "outputs": [
    {
     "name": "stdout",
     "output_type": "stream",
     "text": [
      "lasso best param:  {'alpha': 0.1}\n",
      "lasso best score:  0.4555104983088939\n",
      "ridge_mse 2798.193485169719\n",
      "\n"
     ]
    }
   ],
   "source": [
    "#Lasso\n",
    "\n",
    "lasso = Lasso()\n",
    "lasso_param_grid = {\"alpha\": [0.1, 1, 10,100]}\n",
    "\n",
    "lasso_grid_search = GridSearchCV(lasso, lasso_param_grid, cv = 5)\n",
    "lasso_grid_search.fit(X_train, y_train)\n",
    "print(\"lasso best param: \", lasso_grid_search.best_params_)\n",
    "print(\"lasso best score: \", lasso_grid_search.best_score_)\n",
    "\n",
    "best_lasso = lasso_grid_search.best_estimator_\n",
    "y_pred_lasso = best_lasso.predict(X_test)\n",
    "lasso_mse = mean_squared_error(y_test, y_pred_lasso)\n",
    "print(\"ridge_mse\", lasso_mse)\n",
    "print()\n"
   ]
  },
  {
   "cell_type": "markdown",
   "metadata": {},
   "source": [
    "### 8.2"
   ]
  },
  {
   "cell_type": "code",
   "execution_count": 5,
   "metadata": {},
   "outputs": [],
   "source": [
    "from sklearn.datasets import load_diabetes\n",
    "from sklearn.model_selection import train_test_split, GridSearchCV\n",
    "from sklearn.linear_model import ElasticNet\n",
    "from sklearn.metrics import mean_squared_error\n",
    "dia = load_diabetes()\n",
    "X = dia.data\n",
    "y = dia.target\n",
    "\n",
    "X_train, X_test, y_train, y_test = train_test_split(X,y, test_size=0.2, random_state=42)\n"
   ]
  },
  {
   "cell_type": "code",
   "execution_count": 6,
   "metadata": {},
   "outputs": [
    {
     "name": "stdout",
     "output_type": "stream",
     "text": [
      "best param:  {'alpha': 0.1, 'l1_ratio': 0.9}\n",
      "best score:  0.2525948988969631\n",
      "mse:  3792.129166396345\n"
     ]
    }
   ],
   "source": [
    "elastic_net = ElasticNet()\n",
    "elastic_net_pg = {\"alpha\": [ 0.1,1, 10, 100],\n",
    "                  \"l1_ratio\": [0.1, 0.3, 0.5, 0.5, 0.9]}\n",
    "\n",
    "elastic_net_gs = GridSearchCV(elastic_net, elastic_net_pg, cv = 5)\n",
    "elastic_net_gs.fit(X_train, y_train)\n",
    "print(\"best param: \", elastic_net_gs.best_params_)\n",
    "print(\"best score: \",elastic_net_gs.best_score_)\n",
    "\n",
    "best_elestic_net_model = elastic_net_gs.best_estimator_\n",
    "y_pred = best_elestic_net_model.predict(X_test)\n",
    "\n",
    "mse = mean_squared_error(y_test, y_pred)\n",
    "print(\"mse: \", mse)"
   ]
  }
 ],
 "metadata": {
  "kernelspec": {
   "display_name": "Python 3",
   "language": "python",
   "name": "python3"
  },
  "language_info": {
   "codemirror_mode": {
    "name": "ipython",
    "version": 3
   },
   "file_extension": ".py",
   "mimetype": "text/x-python",
   "name": "python",
   "nbconvert_exporter": "python",
   "pygments_lexer": "ipython3",
   "version": "3.11.6"
  }
 },
 "nbformat": 4,
 "nbformat_minor": 2
}
