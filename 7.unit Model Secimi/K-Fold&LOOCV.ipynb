{
 "cells": [
  {
   "cell_type": "markdown",
   "metadata": {},
   "source": [
    "### 7.4"
   ]
  },
  {
   "cell_type": "code",
   "execution_count": 2,
   "metadata": {},
   "outputs": [
    {
     "name": "stdout",
     "output_type": "stream",
     "text": [
      "KF En iyi Param: {'max_depth': 5}\n",
      "KF En iyi Acc: 0.9245454545454546\n",
      "KF En iyi Param: {'max_depth': 3}\n",
      "KF En iyi Acc: 0.9238095238095239\n"
     ]
    }
   ],
   "source": [
    "from sklearn.datasets import load_iris \n",
    "from sklearn.model_selection import train_test_split, KFold, LeaveOneOut, GridSearchCV\n",
    "from sklearn.tree import DecisionTreeClassifier\n",
    "\n",
    "iris = load_iris()\n",
    "X = iris.data\n",
    "y = iris.target\n",
    "\n",
    "X_train, X_test, y_train, y_test = train_test_split(X, y, test_size=0.3, random_state=42)\n",
    "\n",
    "tree = DecisionTreeClassifier()\n",
    "tree_param_dist = {\"max_depth\": [3,5,7]}\n",
    "\n",
    "# KFOLD grid Search\n",
    "kf = KFold(n_splits=10)\n",
    "tree_grid_search_kf = GridSearchCV(tree, tree_param_dist, cv = kf)\n",
    "tree_grid_search_kf.fit(X_train,y_train)\n",
    "print(\"KF En iyi Param:\", tree_grid_search_kf.best_params_)\n",
    "print(\"KF En iyi Acc:\", tree_grid_search_kf.best_score_)\n",
    "\n",
    "# LOO\n",
    "loo = LeaveOneOut()\n",
    "tree_grid_search_kf = GridSearchCV(tree, tree_param_dist, cv = loo)\n",
    "tree_grid_search_kf.fit(X_train,y_train)\n",
    "print(\"KF En iyi Param:\", tree_grid_search_kf.best_params_)\n",
    "print(\"KF En iyi Acc:\", tree_grid_search_kf.best_score_)"
   ]
  }
 ],
 "metadata": {
  "kernelspec": {
   "display_name": "Python 3",
   "language": "python",
   "name": "python3"
  },
  "language_info": {
   "codemirror_mode": {
    "name": "ipython",
    "version": 3
   },
   "file_extension": ".py",
   "mimetype": "text/x-python",
   "name": "python",
   "nbconvert_exporter": "python",
   "pygments_lexer": "ipython3",
   "version": "3.11.6"
  }
 },
 "nbformat": 4,
 "nbformat_minor": 2
}
