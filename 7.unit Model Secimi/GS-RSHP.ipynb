{
 "cells": [
  {
   "cell_type": "markdown",
   "metadata": {},
   "source": [
    "### 7.1 "
   ]
  },
  {
   "cell_type": "code",
   "execution_count": 1,
   "metadata": {},
   "outputs": [],
   "source": [
    "from sklearn.datasets import load_iris \n",
    "from sklearn.model_selection import train_test_split ,GridSearchCV, RandomizedSearchCV\n",
    "from sklearn.neighbors import KNeighborsClassifier\n",
    "import numpy as np "
   ]
  },
  {
   "cell_type": "code",
   "execution_count": 10,
   "metadata": {},
   "outputs": [
    {
     "name": "stdout",
     "output_type": "stream",
     "text": [
      "KNN Grid Search Best Param:  {'n_neighbors': 7}\n",
      "KNN Grid Search Best Acc  0.9523809523809523\n",
      "KNN Random Search Best Param:  {'n_neighbors': 14}\n",
      "KNN Random Search Best Acc  0.9523809523809523\n"
     ]
    }
   ],
   "source": [
    "iris= load_iris()\n",
    "X=iris.data\n",
    "y=iris.target\n",
    "\n",
    "X_train, X_test, y_train, y_test = train_test_split(X,y,test_size=0.3,random_state=42)\n",
    "\n",
    "# KNN \n",
    "knn = KNeighborsClassifier()\n",
    "knn_param_grid = {\"n_neighbors\": np.arange(2,31)}\n",
    "knn_grid_search = GridSearchCV(knn, knn_param_grid)\n",
    "knn_grid_search.fit(X_train, y_train)\n",
    "print(\"KNN Grid Search Best Param: \",knn_grid_search.best_params_ )\n",
    "print(\"KNN Grid Search Best Acc \", knn_grid_search.best_score_)\n",
    "\n",
    "knn_random_search = RandomizedSearchCV(knn, knn_param_grid,n_iter = 10)\n",
    "knn_random_search.fit(X_train, y_train)\n",
    "print(\"KNN Random Search Best Param: \",knn_random_search.best_params_ )\n",
    "print(\"KNN Random Search Best Acc \", knn_random_search.best_score_)\n"
   ]
  },
  {
   "cell_type": "markdown",
   "metadata": {},
   "source": [
    "### 7.2"
   ]
  },
  {
   "cell_type": "code",
   "execution_count": 9,
   "metadata": {},
   "outputs": [
    {
     "name": "stdout",
     "output_type": "stream",
     "text": [
      "Tree Grid Search Best Param:  {'max_depth': 3, 'max_leaf_nodes': None}\n",
      "Tree Grid Search Best Acc  0.9333333333333333\n",
      "Tree Random Search Best Param:  {'max_leaf_nodes': 50, 'max_depth': 3}\n",
      "Tree Random Search Best Acc  0.9333333333333333\n"
     ]
    }
   ],
   "source": [
    "# DT\n",
    "from sklearn.tree import DecisionTreeClassifier\n",
    "\n",
    "tree = DecisionTreeClassifier()\n",
    "tree_param_grid = {\"max_depth\": [3,5,7], \"max_leaf_nodes\":[None,5,10,20,30,50]}\n",
    "\n",
    "tree_grid_search = GridSearchCV(tree, tree_param_grid)\n",
    "tree_grid_search.fit(X_train, y_train)\n",
    "print(\"Tree Grid Search Best Param: \",tree_grid_search.best_params_ )\n",
    "print(\"Tree Grid Search Best Acc \", tree_grid_search.best_score_)\n",
    "\n",
    "tree_random_search = RandomizedSearchCV(tree, tree_param_grid,n_iter = 10)\n",
    "tree_random_search.fit(X_train, y_train)\n",
    "print(\"Tree Random Search Best Param: \",tree_random_search.best_params_ )\n",
    "print(\"Tree Random Search Best Acc \", tree_random_search.best_score_)"
   ]
  },
  {
   "cell_type": "code",
   "execution_count": 11,
   "metadata": {},
   "outputs": [
    {
     "name": "stdout",
     "output_type": "stream",
     "text": [
      "SVM Grid Search Best Param:  {'C': 100, 'gamma': 0.01}\n",
      "SVM Grid Search Best Acc  0.9714285714285715\n",
      "SVM Random Search Best Param:  {'gamma': 0.01, 'C': 100}\n",
      "SVM Random Search Best Acc  0.9714285714285715\n"
     ]
    }
   ],
   "source": [
    "# SVM\n",
    "from sklearn.svm import SVC\n",
    "\n",
    "svm = SVC()\n",
    "svm_param_grid = { \"C\": [0.1, 1, 10,100], \"gamma\": [0.1, 0.01, 0.001, 0.0001]}\n",
    "\n",
    "svm_grid_search = GridSearchCV(svm, svm_param_grid)\n",
    "svm_grid_search.fit(X_train, y_train)\n",
    "print(\"SVM Grid Search Best Param: \",svm_grid_search.best_params_ )\n",
    "print(\"SVM Grid Search Best Acc \", svm_grid_search.best_score_)\n",
    "\n",
    "svm_random_search = RandomizedSearchCV(svm, svm_param_grid,n_iter = 10)\n",
    "svm_random_search.fit(X_train, y_train)\n",
    "print(\"SVM Random Search Best Param: \",svm_random_search.best_params_ )\n",
    "print(\"SVM Random Search Best Acc \", svm_random_search.best_score_)"
   ]
  },
  {
   "cell_type": "markdown",
   "metadata": {},
   "source": [
    "### 7.3"
   ]
  },
  {
   "cell_type": "code",
   "execution_count": null,
   "metadata": {},
   "outputs": [
    {
     "name": "stdout",
     "output_type": "stream",
     "text": [
      "Tree Grid Search Best Param:  {'max_depth': 3, 'max_leaf_nodes': None}\n",
      "Tree Grid Search Best Acc  0.9238095238095237\n",
      "Ort: 0.9238095238095237, Param: {'max_depth': 3, 'max_leaf_nodes': None}\n",
      "Ort: 0.9238095238095237, Param: {'max_depth': 3, 'max_leaf_nodes': 5}\n",
      "Ort: 0.9238095238095237, Param: {'max_depth': 3, 'max_leaf_nodes': 10}\n",
      "Ort: 0.9238095238095237, Param: {'max_depth': 3, 'max_leaf_nodes': 20}\n",
      "Ort: 0.9238095238095237, Param: {'max_depth': 3, 'max_leaf_nodes': 30}\n",
      "Ort: 0.9238095238095237, Param: {'max_depth': 3, 'max_leaf_nodes': 50}\n",
      "Ort: 0.9047619047619048, Param: {'max_depth': 5, 'max_leaf_nodes': None}\n",
      "Ort: 0.9047619047619047, Param: {'max_depth': 5, 'max_leaf_nodes': 5}\n",
      "Ort: 0.8952380952380953, Param: {'max_depth': 5, 'max_leaf_nodes': 10}\n",
      "Ort: 0.9047619047619048, Param: {'max_depth': 5, 'max_leaf_nodes': 20}\n",
      "Ort: 0.9047619047619048, Param: {'max_depth': 5, 'max_leaf_nodes': 30}\n",
      "Ort: 0.9047619047619048, Param: {'max_depth': 5, 'max_leaf_nodes': 50}\n",
      "Ort: 0.8952380952380953, Param: {'max_depth': 7, 'max_leaf_nodes': None}\n",
      "Ort: 0.9238095238095237, Param: {'max_depth': 7, 'max_leaf_nodes': 5}\n",
      "Ort: 0.9142857142857143, Param: {'max_depth': 7, 'max_leaf_nodes': 10}\n",
      "Ort: 0.9238095238095237, Param: {'max_depth': 7, 'max_leaf_nodes': 20}\n",
      "Ort: 0.9047619047619048, Param: {'max_depth': 7, 'max_leaf_nodes': 30}\n",
      "Ort: 0.9142857142857143, Param: {'max_depth': 7, 'max_leaf_nodes': 50}\n",
      "Param: {'max_depth': 3, 'max_leaf_nodes': None}\n",
      "\tFold1 - Acc: 0.9428571428571428\n",
      "\tFold2 - Acc: 0.8857142857142857\n",
      "\tFold3 - Acc: 0.9428571428571428\n",
      "Param: {'max_depth': 3, 'max_leaf_nodes': 5}\n",
      "\tFold1 - Acc: 0.9428571428571428\n",
      "\tFold2 - Acc: 0.8857142857142857\n",
      "\tFold3 - Acc: 0.9428571428571428\n",
      "Param: {'max_depth': 3, 'max_leaf_nodes': 10}\n",
      "\tFold1 - Acc: 0.9428571428571428\n",
      "\tFold2 - Acc: 0.8857142857142857\n",
      "\tFold3 - Acc: 0.9428571428571428\n",
      "Param: {'max_depth': 3, 'max_leaf_nodes': 20}\n",
      "\tFold1 - Acc: 0.9428571428571428\n",
      "\tFold2 - Acc: 0.8857142857142857\n",
      "\tFold3 - Acc: 0.9428571428571428\n",
      "Param: {'max_depth': 3, 'max_leaf_nodes': 30}\n",
      "\tFold1 - Acc: 0.9428571428571428\n",
      "\tFold2 - Acc: 0.8857142857142857\n",
      "\tFold3 - Acc: 0.9428571428571428\n",
      "Param: {'max_depth': 3, 'max_leaf_nodes': 50}\n",
      "\tFold1 - Acc: 0.9428571428571428\n",
      "\tFold2 - Acc: 0.8857142857142857\n",
      "\tFold3 - Acc: 0.9428571428571428\n",
      "Param: {'max_depth': 5, 'max_leaf_nodes': None}\n",
      "\tFold1 - Acc: 0.8857142857142857\n",
      "\tFold2 - Acc: 0.8857142857142857\n",
      "\tFold3 - Acc: 0.9428571428571428\n",
      "Param: {'max_depth': 5, 'max_leaf_nodes': 5}\n",
      "\tFold1 - Acc: 0.9142857142857143\n",
      "\tFold2 - Acc: 0.8857142857142857\n",
      "\tFold3 - Acc: 0.9142857142857143\n",
      "Param: {'max_depth': 5, 'max_leaf_nodes': 10}\n",
      "\tFold1 - Acc: 0.8571428571428571\n",
      "\tFold2 - Acc: 0.8857142857142857\n",
      "\tFold3 - Acc: 0.9428571428571428\n",
      "Param: {'max_depth': 5, 'max_leaf_nodes': 20}\n",
      "\tFold1 - Acc: 0.8857142857142857\n",
      "\tFold2 - Acc: 0.8857142857142857\n",
      "\tFold3 - Acc: 0.9428571428571428\n",
      "Param: {'max_depth': 5, 'max_leaf_nodes': 30}\n",
      "\tFold1 - Acc: 0.8857142857142857\n",
      "\tFold2 - Acc: 0.8857142857142857\n",
      "\tFold3 - Acc: 0.9428571428571428\n",
      "Param: {'max_depth': 5, 'max_leaf_nodes': 50}\n",
      "\tFold1 - Acc: 0.8857142857142857\n",
      "\tFold2 - Acc: 0.8857142857142857\n",
      "\tFold3 - Acc: 0.9428571428571428\n",
      "Param: {'max_depth': 7, 'max_leaf_nodes': None}\n",
      "\tFold1 - Acc: 0.8571428571428571\n",
      "\tFold2 - Acc: 0.8857142857142857\n",
      "\tFold3 - Acc: 0.9428571428571428\n",
      "Param: {'max_depth': 7, 'max_leaf_nodes': 5}\n",
      "\tFold1 - Acc: 0.9714285714285714\n",
      "\tFold2 - Acc: 0.8857142857142857\n",
      "\tFold3 - Acc: 0.9142857142857143\n",
      "Param: {'max_depth': 7, 'max_leaf_nodes': 10}\n",
      "\tFold1 - Acc: 0.9142857142857143\n",
      "\tFold2 - Acc: 0.8857142857142857\n",
      "\tFold3 - Acc: 0.9428571428571428\n",
      "Param: {'max_depth': 7, 'max_leaf_nodes': 20}\n",
      "\tFold1 - Acc: 0.9428571428571428\n",
      "\tFold2 - Acc: 0.8857142857142857\n",
      "\tFold3 - Acc: 0.9428571428571428\n",
      "Param: {'max_depth': 7, 'max_leaf_nodes': 30}\n",
      "\tFold1 - Acc: 0.8857142857142857\n",
      "\tFold2 - Acc: 0.8857142857142857\n",
      "\tFold3 - Acc: 0.9428571428571428\n",
      "Param: {'max_depth': 7, 'max_leaf_nodes': 50}\n",
      "\tFold1 - Acc: 0.9142857142857143\n",
      "\tFold2 - Acc: 0.8857142857142857\n",
      "\tFold3 - Acc: 0.9428571428571428\n"
     ]
    }
   ],
   "source": [
    "# DT\n",
    "from sklearn.tree import DecisionTreeClassifier\n",
    "\n",
    "tree = DecisionTreeClassifier()\n",
    "tree_param_grid = {\"max_depth\": [3,5,7], \"max_leaf_nodes\":[None,5,10,20,30,50]}\n",
    "\n",
    "nb_cv = 3\n",
    "tree_grid_search = GridSearchCV(tree, tree_param_grid, cv = nb_cv)\n",
    "tree_grid_search.fit(X_train, y_train)\n",
    "print(\"Tree Grid Search Best Param: \",tree_grid_search.best_params_ )\n",
    "print(\"Tree Grid Search Best Acc \", tree_grid_search.best_score_)\n",
    "\n",
    "for mean_score, params in zip(tree_grid_search.cv_results_[\"mean_test_score\"],tree_grid_search.cv_results_[\"params\"]):\n",
    "    print(f\"Ort: {mean_score}, Param: {params}\")\n",
    "\n",
    "cv_result = tree_grid_search.cv_results_\n",
    "for i, params in enumerate((cv_result[\"params\"])):\n",
    "    print(f\"Param: {params}\")\n",
    "    for j in range(nb_cv):\n",
    "        accuracy = cv_result[f\"split{j}_test_score\"][i]\n",
    "        print(f\"\\tFold{j+1} - Acc: {accuracy}\")"
   ]
  }
 ],
 "metadata": {
  "kernelspec": {
   "display_name": "Python 3",
   "language": "python",
   "name": "python3"
  },
  "language_info": {
   "codemirror_mode": {
    "name": "ipython",
    "version": 3
   },
   "file_extension": ".py",
   "mimetype": "text/x-python",
   "name": "python",
   "nbconvert_exporter": "python",
   "pygments_lexer": "ipython3",
   "version": "3.11.6"
  }
 },
 "nbformat": 4,
 "nbformat_minor": 2
}
